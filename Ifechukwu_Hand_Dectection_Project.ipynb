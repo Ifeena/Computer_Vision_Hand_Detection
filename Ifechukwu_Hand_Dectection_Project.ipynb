{
 "cells": [
  {
   "cell_type": "code",
   "execution_count": null,
   "id": "1f8924c1",
   "metadata": {
    "scrolled": true
   },
   "outputs": [],
   "source": [
    "# !pip install mediapipe"
   ]
  },
  {
   "cell_type": "code",
   "execution_count": 25,
   "id": "37c48326",
   "metadata": {},
   "outputs": [],
   "source": [
    "# Import necessary libraries\n",
    "\n",
    "import cv2\n",
    "import mediapipe as mp"
   ]
  },
  {
   "cell_type": "code",
   "execution_count": 26,
   "id": "f2cfa9fb",
   "metadata": {},
   "outputs": [],
   "source": [
    "# Identify Webcam\n",
    "\n",
    "cap = cv2.VideoCapture(0)"
   ]
  },
  {
   "cell_type": "code",
   "execution_count": 27,
   "id": "9dbf7207",
   "metadata": {},
   "outputs": [],
   "source": [
    "# Leveraging the Mediapipe Library used for hand detection\n",
    "\n",
    "mpHands = mp.solutions.hands\n",
    "hands = mpHands.Hands()\n",
    "mpDraw = mp.solutions.drawing_utils"
   ]
  },
  {
   "cell_type": "code",
   "execution_count": null,
   "id": "53dc9507",
   "metadata": {},
   "outputs": [],
   "source": []
  },
  {
   "cell_type": "code",
   "execution_count": 28,
   "id": "cb1074eb",
   "metadata": {},
   "outputs": [],
   "source": [
    "# Check that webcam is on and to display the hand detection\n",
    "\n",
    "while True:\n",
    "    _, img = cap.read()\n",
    "    \n",
    "    # Convert img from BGR to RGB\n",
    "    imgRGB = cv2.cvtColor(img, cv2.COLOR_BGR2RGB)\n",
    "    \n",
    "    # Apply Mediapipe hand detection model for detection\n",
    "    results = hands.process(imgRGB)\n",
    "    # print(results.multi_hand_landmarks)\n",
    "    \n",
    "    # Draw landmarks\n",
    "    if results.multi_hand_landmarks:\n",
    "        for handlms in results.multi_hand_landmarks:\n",
    "            for id, lm in enumerate(handlms.landmark):\n",
    "                # print(id, lm)\n",
    "        \n",
    "                 mpDraw.draw_landmarks(img, handlms, mpHands.HAND_CONNECTIONS)\n",
    "        \n",
    "    cv2.putText(img, 'KuljoeFin Hand Detection Program', (10, 70), cv2.FONT_HERSHEY_PLAIN, 3, (255, 255, 255), 2)\n",
    "    cv2.imshow('10Alytics Hand Detection Project', img)\n",
    "    if cv2.waitKey(1) & 0xFF == ord('c'):\n",
    "        break\n",
    "        \n",
    "# Release capture after all processes are completed.\n",
    "cap.release()\n",
    "cv2.destroyAllWindows()"
   ]
  },
  {
   "cell_type": "code",
   "execution_count": null,
   "id": "574477b9",
   "metadata": {},
   "outputs": [],
   "source": []
  }
 ],
 "metadata": {
  "kernelspec": {
   "display_name": "Python 3 (ipykernel)",
   "language": "python",
   "name": "python3"
  },
  "language_info": {
   "codemirror_mode": {
    "name": "ipython",
    "version": 3
   },
   "file_extension": ".py",
   "mimetype": "text/x-python",
   "name": "python",
   "nbconvert_exporter": "python",
   "pygments_lexer": "ipython3",
   "version": "3.11.5"
  }
 },
 "nbformat": 4,
 "nbformat_minor": 5
}
